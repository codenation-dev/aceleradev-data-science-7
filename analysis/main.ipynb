{
 "cells": [
  {
   "cell_type": "code",
   "execution_count": 1,
   "metadata": {},
   "outputs": [],
   "source": [
    "import pandas as pd\n",
    "import seaborn as sns\n",
    "import matplotlib.pyplot as plt"
   ]
  },
  {
   "cell_type": "code",
   "execution_count": 2,
   "metadata": {},
   "outputs": [],
   "source": [
    "#estaticos_market = pd.read_csv('~/codenation/projeto_final/files/estaticos_market.csv',index_col=\"id\")\n",
    "estaticos_portfolio1 = pd.read_csv('~/codenation/projeto_final/files/estaticos_portfolio1.csv',index_col=\"id\")\n",
    "estaticos_portfolio2 = pd.read_csv('~/codenation/projeto_final/files/estaticos_portfolio2.csv',index_col=\"id\")\n",
    "estaticos_portfolio3 = pd.read_csv('~/codenation/projeto_final/files/estaticos_portfolio3.csv',index_col=\"id\")"
   ]
  },
  {
   "cell_type": "code",
   "execution_count": 3,
   "metadata": {},
   "outputs": [
    {
     "name": "stdout",
     "output_type": "stream",
     "text": [
      "(555, 181)\n",
      "(566, 1)\n",
      "(265, 1)\n"
     ]
    }
   ],
   "source": [
    "#print(estaticos_market.shape)\n",
    "print(estaticos_portfolio1.shape)\n",
    "print(estaticos_portfolio2.shape)\n",
    "print(estaticos_portfolio3.shape)"
   ]
  },
  {
   "cell_type": "code",
   "execution_count": null,
   "metadata": {},
   "outputs": [],
   "source": [
    "percent_missing = estaticos_portfolio1.isnull().sum() * 100 / len(estaticos_portfolio1)\n",
    "missing_value_df = pd.DataFrame({'percent_missing': percent_missing,\n",
    "                                 'dtypes': estaticos_portfolio1.dtypes,})\n",
    "missing_value_df.sort_values('percent_missing', inplace=True)\n",
    "missing_value_df.head(181)"
   ]
  },
  {
   "cell_type": "code",
   "execution_count": 7,
   "metadata": {},
   "outputs": [],
   "source": [
    "train = estaticos_portfolio1.dropna()"
   ]
  },
  {
   "cell_type": "code",
   "execution_count": 9,
   "metadata": {},
   "outputs": [
    {
     "data": {
      "text/plain": [
       "(0, 181)"
      ]
     },
     "execution_count": 9,
     "metadata": {},
     "output_type": "execute_result"
    }
   ],
   "source": [
    "train.shape"
   ]
  }
 ],
 "metadata": {
  "kernelspec": {
   "display_name": "projetofinal",
   "language": "python",
   "name": "projetofinal"
  },
  "language_info": {
   "codemirror_mode": {
    "name": "ipython",
    "version": 3
   },
   "file_extension": ".py",
   "mimetype": "text/x-python",
   "name": "python",
   "nbconvert_exporter": "python",
   "pygments_lexer": "ipython3",
   "version": "3.7.3"
  }
 },
 "nbformat": 4,
 "nbformat_minor": 2
}
