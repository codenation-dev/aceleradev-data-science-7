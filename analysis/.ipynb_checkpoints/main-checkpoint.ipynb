{
 "cells": [
  {
   "cell_type": "code",
   "execution_count": null,
   "metadata": {},
   "outputs": [],
   "source": [
    "import pandas as pd\n",
    "import seaborn as sns\n",
    "import matplotlib.pyplot as plt\n",
    "from sklearn.metrics.pairwise import linear_kernel"
   ]
  },
  {
   "cell_type": "code",
   "execution_count": 99,
   "metadata": {},
   "outputs": [],
   "source": [
    "#estaticos_market = pd.read_csv('~/codenation/projeto_final/files/estaticos_market.csv',index_col=\"id\")\n",
    "train = pd.read_csv('~/codenation/projeto_final/files/estaticos_portfolio1.csv',index_col=\"id\")\n",
    "estaticos_portfolio1 = pd.read_csv('~/codenation/projeto_final/files/estaticos_portfolio1.csv')\n",
    "estaticos_portfolio2 = pd.read_csv('~/codenation/projeto_final/files/estaticos_portfolio2.csv')\n",
    "estaticos_portfolio3 = pd.read_csv('~/codenation/projeto_final/files/estaticos_portfolio3.csv')"
   ]
  },
  {
   "cell_type": "code",
   "execution_count": null,
   "metadata": {},
   "outputs": [],
   "source": [
    "#print(estaticos_market.shape)\n",
    "print(estaticos_portfolio1.shape)\n",
    "print(estaticos_portfolio2.shape)\n",
    "print(estaticos_portfolio3.shape)"
   ]
  },
  {
   "cell_type": "code",
   "execution_count": null,
   "metadata": {},
   "outputs": [],
   "source": [
    "estaticos_portfolio1['id']"
   ]
  },
  {
   "cell_type": "code",
   "execution_count": null,
   "metadata": {},
   "outputs": [],
   "source": [
    "percent_missing = train.isnull().sum() * 100 / len(train)\n",
    "missing_value_df = pd.DataFrame({'percent_missing': percent_missing,\n",
    "                                 'dtypes': train.dtypes,})\n",
    "missing_value_df.sort_values('percent_missing', inplace=True)\n",
    "missing_value_df.head(181)"
   ]
  },
  {
   "cell_type": "code",
   "execution_count": 100,
   "metadata": {},
   "outputs": [],
   "source": [
    "#train = estaticos_portfolio1.select_dtypes(exclude=['object'])\n",
    "#train = estaticos_portfolio1.drop(['id'],axis=1)\n",
    "float_cols = train.select_dtypes(include=['float64']).columns\n",
    "str_cols = train.select_dtypes(include=['object']).columns\n",
    "train.loc[:, float_cols] = train.loc[:, float_cols].fillna(0)\n",
    "train.loc[:, str_cols] = train.loc[:, str_cols].fillna('')\n",
    "train = pd.get_dummies(train, drop_first=True)"
   ]
  },
  {
   "cell_type": "code",
   "execution_count": 157,
   "metadata": {},
   "outputs": [],
   "source": [
    "analise = train.loc['7d58990ba786a3a26617a8afbf814a9919ab34aa09013a559b2c9d45eb439720':'7d58990ba786a3a26617a8afbf814a9919ab34aa09013a559b2c9d45eb439720']\n",
    "cosine_sim = linear_kernel(train, train)\n",
    "indices = pd.Series(estaticos_portfolio1.index, index=estaticos_portfolio1['id']).drop_duplicates()"
   ]
  },
  {
   "cell_type": "code",
   "execution_count": 158,
   "metadata": {},
   "outputs": [],
   "source": [
    "def get_recommendations(id, cosine_sim=cosine_sim):\n",
    "    idx = indices[id]\n",
    "    sim_scores = list(enumerate(cosine_sim[idx]))\n",
    "    sim_scores = sorted(sim_scores, key=lambda x: x[1], reverse=True)\n",
    "    sim_scores = sim_scores[0:]\n",
    "    id_indices = [i[0] for i in sim_scores]\n",
    "    return estaticos_portfolio1['id'].iloc[id_indices]"
   ]
  },
  {
   "cell_type": "code",
   "execution_count": 188,
   "metadata": {},
   "outputs": [
    {
     "data": {
      "text/plain": [
       "167    32a26c8394fa0c08967b5e1c2696cb4fd7452b0762ed94...\n",
       "365    b542803f21de8716a68807725838c5b238632d0fecdc9e...\n",
       "503    168c6e1e4a2621661c4aac3eeaf3d80dc1c85ad5c3b0f1...\n",
       "163    0cee5a697ab6cf68db696ae61a6bfde5be575267b6a0cf...\n",
       "32     26bdeb6de15f66ce158b7ddd473860352b48e7693be2ed...\n",
       "522    a52c30033717a0d549535425068220ca74a15cfeb32386...\n",
       "210    5e23cb55be23b3e59dbf448aa6b962772722ffbb2bcfed...\n",
       "537    ea33bd6615d4b5dd23f5d9ba3a23e590508117e945dc63...\n",
       "299    40ef323231d4ecb628441ad05f2453095e45524ea1cc91...\n",
       "122    60a79775c78290c612464e9819d82cfdc20983ec739275...\n",
       "222    64e95f8a4e2081b85e485be06cac760629972e0921f439...\n",
       "341    6dde1c3e1a8fd62845ff7085b793e532e8724d7da729e3...\n",
       "350    e03474df015af714fa4843efb71e5b3ba113a146982ca1...\n",
       "192    f957404bbd2c30a5afba03a20c7ba1526e6d1982a987d5...\n",
       "106    6cabb5a0aa5a1c0f8605d8a4d8c1218cf9127602d2e017...\n",
       "58     65ed01d715525139c8eba232100425a81d6f76ee4c7dcb...\n",
       "93     78a7196491ef0ba187d6ad4aa6c55b0bb0029ed9cc14ac...\n",
       "146    7e4e65d124b2f0ca272eb7c667be57cf3bb409c4243878...\n",
       "507    b407d13646b36bab550411db9d8518e97b77423f207174...\n",
       "116    26168a69f1356dbb2de2eb8b600a845e13ee07807614d9...\n",
       "486    9358f21d7e9050282b18958ee6e2092b64590f45505779...\n",
       "302    c7e59a5989f0d58ba5cb13bbb1fff8dd42befb21238a4b...\n",
       "185    77e518075b4cb4f560238d1c97e40bf745f99b0a46240f...\n",
       "391    5d90baad6e307d4376b7f91056e6a9d4bc1c61acb58714...\n",
       "47     2bd4866906c6922cac3548420e09c791ce275dcefc9c9b...\n",
       "36     e5aeb8197c61261b80d66f1da4e3760e240a1f5557208a...\n",
       "494    a05a86ad99266c82bbb2a7019826ce2d8e64569cc3b4f5...\n",
       "4      f72aa7fa6787b0a5a1c88885b6120850df8ee0f71adc25...\n",
       "141    3c3adb06c84a339ab046c24b5cd4584c0416f36b2026c3...\n",
       "41     ebc94004353350b0c584663d0c669251e5fb1098b75386...\n",
       "                             ...                        \n",
       "150    484fb1a4ec91cf4287c288d9b69faca59a0e949f7b89b2...\n",
       "104    af1374817994ade74a15d55e35cb8f694a9e704b656e29...\n",
       "112    7cee8c5914de3fc4780869cd13b34223bc2ed0075de677...\n",
       "64     6fd05c966ca466896b74a0e10a0a67fe1f95810fbfc047...\n",
       "35     4c43f4afaf4b1d5b08f83ecbac8128b8113a9c526afe61...\n",
       "49     0d2a807a3ca7367640f13e08d9faca46308b14dfaf6865...\n",
       "30     0a05ef343496299e9f8c54cd951796c3f5a13dee93aa07...\n",
       "285    df088756bb72a8b8ed24e9fb938bea5bda02a0c8bf4e73...\n",
       "232    22690c0b5a0045497f58db2cab414bf0e048446f0fc2a2...\n",
       "549    3bf88877e71fb1bd4e0ce2e76ca432d788a3fab38078be...\n",
       "246    237038cb05426dcbcb022a663720a094fd46e190586fe5...\n",
       "276    4a581f8d7038b7e696d35aaf5fb643408fac2ad8f9038f...\n",
       "22     17bd634cc590c6c679021bc42589830a90a3d226ceee22...\n",
       "395    12e5bc5370614e26490bfe10c13ea2202bf072fcb26e64...\n",
       "472    b46ca52c3f3bf52ca6c253b073cc657853b5f6c59fa84f...\n",
       "415    c0fe4b203c0d6d9d39b57a94c255d9bd01d1c419213c27...\n",
       "291    c806889be395e1e16d3c856c4d672a6f3fccabee0e35f1...\n",
       "217    85517fdca1f3ceac59da22aa13431d026d1c041dfc8331...\n",
       "68     b5065c017558e45d9fe978a8392171eba7bb3d42f4531c...\n",
       "422    74c140e90c4af3e2fa9a0f04e44484cb899754a4d2a71a...\n",
       "254    181b1e05478030af750f73bc6845f1eaa860a37f95d453...\n",
       "253    8215a19d7b5caf7d29f885531aabadaebf250c2d5ce0e5...\n",
       "205    6c83dc28d330d0fbed1311810a1b20184c59aaae7512e6...\n",
       "363    73f20d1fb1014b827accddce5bfad13ba282a2ca730aec...\n",
       "469    1ef44e06cef6c47270296eff5403f728aab42647ef5d4e...\n",
       "198    c01337bc09fcd729b6046294de908deef55e363947328f...\n",
       "46     ac1232d6908cb853de36cf3c309a21b9bf866186ebfcd3...\n",
       "135    4a79769897cec9e8c6effbdda1739fa7c8bb749fac0213...\n",
       "235    01f73b5d6d29e955d5f8862698a291a961a3fde5848de6...\n",
       "15     48a35ddd6e719389772bad36c40baac6c825b9889efdc5...\n",
       "Name: id, Length: 555, dtype: object"
      ]
     },
     "execution_count": 188,
     "metadata": {},
     "output_type": "execute_result"
    }
   ],
   "source": [
    "get_recommendations('7d58990ba786a3a26617a8afbf814a9919ab34aa09013a559b2c9d45eb439720')"
   ]
  }
 ],
 "metadata": {
  "kernelspec": {
   "display_name": "projetofinal",
   "language": "python",
   "name": "projetofinal"
  },
  "language_info": {
   "codemirror_mode": {
    "name": "ipython",
    "version": 3
   },
   "file_extension": ".py",
   "mimetype": "text/x-python",
   "name": "python",
   "nbconvert_exporter": "python",
   "pygments_lexer": "ipython3",
   "version": "3.7.3"
  }
 },
 "nbformat": 4,
 "nbformat_minor": 2
}
