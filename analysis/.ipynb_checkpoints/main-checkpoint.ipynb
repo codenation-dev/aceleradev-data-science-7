{
 "cells": [
  {
   "cell_type": "code",
   "execution_count": null,
   "metadata": {},
   "outputs": [],
   "source": [
    "import pandas as pd\n",
    "import seaborn as sns\n",
    "import matplotlib.pyplot as plt"
   ]
  },
  {
   "cell_type": "code",
   "execution_count": null,
   "metadata": {},
   "outputs": [],
   "source": [
    "#estaticos_market = pd.read_csv('~/codenation/projeto_final/files/estaticos_market.csv',index_col=\"id\")\n",
    "estaticos_portfolio1 = pd.read_csv('~/codenation/projeto_final/files/estaticos_portfolio1.csv',index_col=\"id\")\n",
    "estaticos_portfolio2 = pd.read_csv('~/codenation/projeto_final/files/estaticos_portfolio2.csv',index_col=\"id\")\n",
    "estaticos_portfolio3 = pd.read_csv('~/codenation/projeto_final/files/estaticos_portfolio3.csv',index_col=\"id\")"
   ]
  },
  {
   "cell_type": "code",
   "execution_count": null,
   "metadata": {},
   "outputs": [],
   "source": [
    "print(estaticos_market.shape)\n",
    "print(estaticos_portfolio1.shape)\n",
    "print(estaticos_portfolio2.shape)\n",
    "print(estaticos_portfolio3.shape)"
   ]
  },
  {
   "cell_type": "code",
   "execution_count": null,
   "metadata": {},
   "outputs": [],
   "source": [
    "percent_missing = estaticos_market.isnull().sum() * 100 / len(estaticos_market)\n",
    "missing_value_df = pd.DataFrame({'percent_missing': percent_missing,\n",
    "                                 'dtypes': estaticos_market.dtypes,})\n",
    "missing_value_df.sort_values('percent_missing', inplace=True)"
   ]
  },
  {
   "cell_type": "code",
   "execution_count": null,
   "metadata": {},
   "outputs": [],
   "source": [
    "#sns.pairplot(estaticos_portfolio1)\n",
    "#sns.plt.show()"
   ]
  }
 ],
 "metadata": {
  "kernelspec": {
   "display_name": "projetofinal",
   "language": "python",
   "name": "projetofinal"
  },
  "language_info": {
   "codemirror_mode": {
    "name": "ipython",
    "version": 3
   },
   "file_extension": ".py",
   "mimetype": "text/x-python",
   "name": "python",
   "nbconvert_exporter": "python",
   "pygments_lexer": "ipython3",
   "version": "3.7.3"
  }
 },
 "nbformat": 4,
 "nbformat_minor": 2
}
